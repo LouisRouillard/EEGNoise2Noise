{
 "cells": [
  {
   "cell_type": "code",
   "execution_count": 125,
   "metadata": {},
   "outputs": [],
   "source": [
    "import torch\n",
    "import numpy as np\n",
    "\n",
    "import matplotlib.pyplot as plt"
   ]
  },
  {
   "cell_type": "code",
   "execution_count": 167,
   "metadata": {},
   "outputs": [],
   "source": [
    "def generate_fitzhugh_nagumo(v_init=0.1, w_init=0., forcing=np.zeros(100)):\n",
    "    '''\n",
    "    Generates a biological neuron model via \n",
    "    Euler-discretized Fitzhugh-Nagumo dynamics.\n",
    "    \n",
    "    Notations:\n",
    "    I is the external forcing (electrical current).\n",
    "    V is the membrane voltage.\n",
    "    W is the adaptation. \n",
    "    '''    \n",
    "    n_times = len(forcing)\n",
    "\n",
    "    # harcoded\n",
    "    a = -0.3\n",
    "    b = 1.4\n",
    "    tau = 20\n",
    "    R = 1\n",
    "    \n",
    "    # Instantiate trajectories\n",
    "    vs, ws = [], []        \n",
    "\n",
    "    # Initial state\n",
    "    v, w = v_init, w_init\n",
    "    vs.append(v)\n",
    "    ws.append(w)\n",
    "\n",
    "    # Generate trajectory\n",
    "    for t in range(n_times):\n",
    "\n",
    "        # Voltage (v) update\n",
    "        v = 2 * v - (1./3) * v**3 - w + R * forcing[t]\n",
    "        vs.append(v)\n",
    "\n",
    "        # Adaptation (w) update\n",
    "        w = w + (1./tau) * (v + a - b * w)\n",
    "        ws.append(w)\n",
    "        \n",
    "    potential = torch.Tensor(vs)\n",
    "\n",
    "    return potential"
   ]
  },
  {
   "cell_type": "code",
   "execution_count": 168,
   "metadata": {},
   "outputs": [],
   "source": [
    "forcing = np.zeros(100)\n",
    "forcing[20] = 0.5\n",
    "\n",
    "potential = generate_fitzhugh_nagumo(forcing=forcing)"
   ]
  },
  {
   "cell_type": "code",
   "execution_count": 169,
   "metadata": {},
   "outputs": [
    {
     "data": {
      "image/png": "[encoded data removed]",
      "text/plain": [
       "<Figure size 432x288 with 1 Axes>"
      ]
     },
     "metadata": {
      "needs_background": "light"
     },
     "output_type": "display_data"
    }
   ],
   "source": [
    "fig, ax = plt.subplots()\n",
    "ax.plot(potential, color='blue', label='neuron potential')\n",
    "ax.plot(forcing, color='red', label='forcing')\n",
    "ax.set(title='Fitzhugh-Nagumo dynamics')\n",
    "ax.legend()\n",
    "\n",
    "plt.show()"
   ]
  },
  {
   "cell_type": "code",
   "execution_count": null,
   "metadata": {},
   "outputs": [],
   "source": []
  },
  {
   "cell_type": "code",
   "execution_count": null,
   "metadata": {},
   "outputs": [],
   "source": []
  },
  {
   "cell_type": "code",
   "execution_count": null,
   "metadata": {},
   "outputs": [],
   "source": []
  },
  {
   "cell_type": "code",
   "execution_count": null,
   "metadata": {},
   "outputs": [],
   "source": []
  }
 ],
 "metadata": {
  "kernelspec": {
   "display_name": "Python 3",
   "language": "python",
   "name": "python3"
  },
  "language_info": {
   "codemirror_mode": {
    "name": "ipython",
    "version": 3
   },
   "file_extension": ".py",
   "mimetype": "text/x-python",
   "name": "python",
   "nbconvert_exporter": "python",
   "pygments_lexer": "ipython3",
   "version": "3.6.7"
  }
 },
 "nbformat": 4,
 "nbformat_minor": 2
}
